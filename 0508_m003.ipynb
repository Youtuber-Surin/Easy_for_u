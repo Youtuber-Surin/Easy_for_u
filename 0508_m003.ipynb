{
 "cells": [
  {
   "cell_type": "code",
   "execution_count": 4,
   "metadata": {},
   "outputs": [
    {
     "name": "stdout",
     "output_type": "stream",
     "text": [
      "여자친구의 분노 게이지 : 30\n",
      "^ㅁ^ 여자친구가 나름 행복한 상태 입니다.\n",
      "-------------------------------------------------------\n",
      "당신에게 10번의 기회를 드립니다. 여자친구가 얼마나 화가 났는지 맞추세요.\n",
      "-------------------------------------------------------\n",
      "당신의 여자친구 분노 게이지 : 30\n",
      "여자친구 분노도를 정확히 맞추고 결혼할 수 있었습니다.\n",
      "\n"
     ]
    }
   ],
   "source": [
    "# my_girl\n",
    "import random\n",
    "\n",
    "def angry(mg_emotion) :\n",
    "    print(\"여자친구의 분노 게이지 :\", mg_emotion)\n",
    "    \n",
    "    if mg_emotion > 80 :\n",
    "        print(\"ㅜㅁㅜ 여자친구가 분노에 가득 찬 무시무시한 상태 입니다.\")\n",
    "    elif mg_emotion < 40 :\n",
    "        print(\"^ㅁ^ 여자친구가 나름 행복한 상태 입니다.\")\n",
    "    else :\n",
    "        print(\"-ㅁ- 여자친구가 나름 안정적이지만, 언제 터질 줄 모르는 활화산 입니다.\")\n",
    "    \n",
    "    \n",
    "    print(\"-------------------------------------------------------\")\n",
    "    print(\"당신에게 10번의 기회를 드립니다. 여자친구가 얼마나 화가 났는지 맞추세요.\")\n",
    "    \n",
    "    for i in range( 10 ) :\n",
    "        if i == 9 :\n",
    "            print(\"당신은 여자친구에게 이별통보를 받았습니다.\")\n",
    "            break\n",
    "        \n",
    "        print(\"-------------------------------------------------------\")\n",
    "        mg_gage = int(input(\"당신의 여자친구 분노 게이지 : \"))\n",
    "        \n",
    "        if mg_gage == mg_emotion :\n",
    "            print(\"여자친구 분노도를 정확히 맞추고 결혼할 수 있었습니다.\")\n",
    "            break\n",
    "        elif mg_gage > mg_emotion :\n",
    "            print(\"여자친구의 분노도는 당신 생각보다 낮아요!\")\n",
    "        elif mg_gage < mg_emotion :\n",
    "            print(\"여자친구의 분노도는 당신 생각보다 높아요!\")    \n",
    "        print(\"-------------------------------------------------------\")\n",
    "        \n",
    "    print(\"\")\n",
    "\n",
    "    \n",
    "mg_emotion = random.randint(30, 90)\n",
    "angry(mg_emotion) # 분노도 및 분노 맞추기 게임 함수 설계 'angry' 의 입력값 'mg_emotion'"
   ]
  }
 ],
 "metadata": {
  "kernelspec": {
   "display_name": "Python 3",
   "language": "python",
   "name": "python3"
  },
  "language_info": {
   "codemirror_mode": {
    "name": "ipython",
    "version": 3
   },
   "file_extension": ".py",
   "mimetype": "text/x-python",
   "name": "python",
   "nbconvert_exporter": "python",
   "pygments_lexer": "ipython3",
   "version": "3.8.2"
  }
 },
 "nbformat": 4,
 "nbformat_minor": 4
}
